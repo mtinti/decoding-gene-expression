{
 "cells": [
  {
   "cell_type": "code",
   "execution_count": null,
   "metadata": {},
   "outputs": [],
   "source": [
    "import matplotlib.pyplot as plt\n",
    "import scipy\n",
    "from scipy import stats\n",
    "from scipy.stats import pearsonr\n",
    "from sklearn.metrics import mean_squared_error\n",
    "import numpy as np\n",
    "import pandas as pd\n",
    "import matplotlib.pyplot as plt\n",
    "from sklearn.model_selection import KFold\n",
    "from sklearn.ensemble import RandomForestRegressor, GradientBoostingRegressor\n",
    "from sklearn.metrics import mean_squared_error, r2_score\n",
    "from scipy.stats import pearsonr, spearmanr\n",
    "from sklearn.model_selection import train_test_split\n",
    "import re\n",
    "import pandas as pd\n",
    "import numpy as np\n",
    "import seaborn as sns\n",
    "sns.set(style='ticks', palette='Set2')\n",
    "import sys\n",
    "from tqdm.auto import tqdm\n",
    "np.random.seed(42)\n",
    "plt.style.use('ggplot')"
   ]
  },
  {
   "cell_type": "code",
   "execution_count": null,
   "metadata": {},
   "outputs": [],
   "source": [
    "sys.path.append('../utility')\n",
    "from concordance_index import concordance_index\n",
    "from regression_line import abline\n",
    "from repeated_analysis import repeated_analysis\n",
    "from cross_validate_random_forest import cross_validate_random_forest\n",
    "from string_utils import multiple_replace"
   ]
  },
  {
   "cell_type": "code",
   "execution_count": null,
   "metadata": {},
   "outputs": [],
   "source": [
    "!pwd"
   ]
  },
  {
   "cell_type": "code",
   "execution_count": null,
   "metadata": {},
   "outputs": [],
   "source": []
  },
  {
   "cell_type": "code",
   "execution_count": null,
   "metadata": {},
   "outputs": [],
   "source": [
    "#good_index = pd.read_pickle('../../ML_DATASET_TB.pkl')['utr_3']\n",
    "#good_index"
   ]
  },
  {
   "cell_type": "code",
   "execution_count": null,
   "metadata": {},
   "outputs": [],
   "source": [
    "df = pd.read_pickle('ML_DATASET_TB.pkl')\n",
    "df['good']=[True if n.startswith('Tb927.') else False for n in df.index.values] \n",
    "df=df[df['good']]\n",
    "df=df.dropna()\n",
    "print(df.shape)\n",
    "df.head()"
   ]
  },
  {
   "cell_type": "code",
   "execution_count": null,
   "metadata": {},
   "outputs": [],
   "source": [
    "#df['log_mean_rna'].min()"
   ]
  },
  {
   "cell_type": "code",
   "execution_count": null,
   "metadata": {},
   "outputs": [],
   "source": [
    "#set(df.index.values)-set(good_index)"
   ]
  },
  {
   "cell_type": "code",
   "execution_count": null,
   "metadata": {},
   "outputs": [],
   "source": [
    "df['log_mean_ribo']=np.log10(df['mean_ribo'])\n",
    "df['log_mean_rna']=np.log10(df['mean_rna'])"
   ]
  },
  {
   "cell_type": "code",
   "execution_count": null,
   "metadata": {},
   "outputs": [],
   "source": [
    "del df['mean_ribo']\n",
    "del df['mean_rna']"
   ]
  },
  {
   "cell_type": "code",
   "execution_count": null,
   "metadata": {},
   "outputs": [],
   "source": [
    "#df.to_csv('ML_DATASET_TB.csv.gz')"
   ]
  },
  {
   "cell_type": "code",
   "execution_count": null,
   "metadata": {},
   "outputs": [],
   "source": [
    "#np.array(df.columns)"
   ]
  },
  {
   "cell_type": "code",
   "execution_count": null,
   "metadata": {},
   "outputs": [],
   "source": [
    "to_drop = ['TE', 'sequence_3p', 'sequence_5p', 'cds_seq', 'log_mean_ribo', 'log_mean_rna', 'good']\n",
    "print(len(to_drop))\n",
    "to_drop = [n for n in to_drop if n in list(df.columns)]\n",
    "print(len(to_drop))\n",
    "#to_drop+= [n for n in df.columns if n.startswith('utr_5_')]\n",
    "#'Geneid'"
   ]
  },
  {
   "cell_type": "code",
   "execution_count": null,
   "metadata": {},
   "outputs": [],
   "source": [
    "print(df.shape)\n",
    "df=df.replace(-np.inf,np.nan)\n",
    "df=df.replace(np.inf,np.nan)\n",
    "df=df.dropna()\n",
    "df.shape"
   ]
  },
  {
   "cell_type": "code",
   "execution_count": null,
   "metadata": {},
   "outputs": [],
   "source": [
    "cor_matrix = df.drop(to_drop, axis=1).corr().abs()\n",
    "upper_tri = cor_matrix.where(np.triu(np.ones(cor_matrix.shape),k=1).astype(np.bool))\n",
    "corr_to_drop = [column for column in upper_tri.columns if any(upper_tri[column] > 0.95)]\n",
    "print(corr_to_drop)"
   ]
  },
  {
   "cell_type": "code",
   "execution_count": null,
   "metadata": {},
   "outputs": [],
   "source": [
    "X=df.drop(to_drop, axis=1).drop(corr_to_drop, axis=1)\n",
    "y=df['log_mean_rna']"
   ]
  },
  {
   "cell_type": "code",
   "execution_count": null,
   "metadata": {},
   "outputs": [],
   "source": [
    "results = cross_validate_random_forest(X, y, n_splits=3)\n",
    "\n",
    "all_predictions = results['predictions']\n",
    "all_true_values = results['true_values']\n",
    "regr = results['model']\n",
    "fold_metrics = results['fold_metrics']\n",
    "X_train, y_train = results['train_data']\n",
    "X_test, y_test = results['test_data']"
   ]
  },
  {
   "cell_type": "code",
   "execution_count": null,
   "metadata": {},
   "outputs": [],
   "source": [
    "# Plotting\n",
    "fig, ax = plt.subplots(figsize=(9, 6))\n",
    "ax.scatter(all_true_values, all_predictions, c='blue', alpha=0.1)\n",
    "abline(all_true_values, all_predictions, ax, text_loc = [1.1, 0.95])\n",
    "ax.set_ylabel('Prediction')\n",
    "ax.set_xlabel('log Abundance')\n",
    "ax.set_title('Random Forest Regression - 3-Fold Cross-Validation',fontsize=16)\n",
    "plt.tight_layout()\n",
    "plt.show()"
   ]
  },
  {
   "cell_type": "code",
   "execution_count": null,
   "metadata": {},
   "outputs": [],
   "source": []
  },
  {
   "cell_type": "code",
   "execution_count": null,
   "metadata": {},
   "outputs": [],
   "source": [
    "oof_df = pd.DataFrame()\n",
    "oof_df['oof_mRNAabundance']=all_predictions"
   ]
  },
  {
   "cell_type": "code",
   "execution_count": null,
   "metadata": {},
   "outputs": [],
   "source": [
    "\n",
    "    \n",
    "feature_names = [multiple_replace(n) for n in list(X_test.columns)]"
   ]
  },
  {
   "cell_type": "code",
   "execution_count": null,
   "metadata": {},
   "outputs": [],
   "source": []
  },
  {
   "cell_type": "code",
   "execution_count": null,
   "metadata": {},
   "outputs": [],
   "source": []
  },
  {
   "cell_type": "code",
   "execution_count": null,
   "metadata": {},
   "outputs": [],
   "source": [
    "#shap.summary_plot??"
   ]
  },
  {
   "cell_type": "code",
   "execution_count": null,
   "metadata": {},
   "outputs": [],
   "source": [
    "import shap\n",
    "import matplotlib.pyplot as plt\n",
    "import matplotlib.cm as cm\n",
    "import matplotlib\n",
    "\n",
    "# Now we use the SHAP scoring system to visualise \n",
    "# the most important features for the model\n",
    "explainer = shap.TreeExplainer(regr)\n",
    "shap_values = explainer.shap_values(X_test)\n",
    "\n",
    "# Create the SHAP summary plot\n",
    "shap.summary_plot(shap_values, \n",
    "                  X_test, \n",
    "                  feature_names=feature_names,\n",
    "                  max_display=50, show=False, color_bar=False)\n",
    "\n",
    "# Get the current figure and axes\n",
    "f = plt.gcf()\n",
    "f.set_size_inches(10, 12)\n",
    "ax = plt.gca()\n",
    "\n",
    "# Customize the plot\n",
    "plt.title('Feature Importance mRNA Abundance T. brucei (PCF)', fontsize=16)\n",
    "plt.xticks(fontsize=16)\n",
    "plt.yticks(fontsize=16)\n",
    "plt.xlabel('SHAP value', fontsize=16)\n",
    "\n",
    "my_cmap = plt.get_cmap('seismic')\n",
    "\n",
    "# Change the colormap of the artists\n",
    "for child in ax.get_children():\n",
    "    if hasattr(child, \"set_cmap\"):\n",
    "        child.set_cmap(my_cmap)\n",
    "\n",
    "# Create the colorbar and adjust its size\n",
    "norm = matplotlib.colors.Normalize(vmin=-1, vmax=1)\n",
    "cbar_ax = f.add_axes([0.88, 0.1, 0.03, 0.3])\n",
    "cbar = f.colorbar(cm.ScalarMappable(norm=norm, cmap='seismic'), cax=cbar_ax, shrink=0.5)\n",
    "cbar.set_ticks([-1, 1])\n",
    "cbar.set_ticklabels(['Low', 'High'])\n",
    "cbar.ax.tick_params(labelsize=14)\n",
    "\n",
    "plt.tight_layout()\n",
    "#plt.savefig('UTR_seismic_TB_MRNA_abundance.png')\n",
    "#plt.savefig('UTR_seismic_TB_MRNA_abundance.svg')"
   ]
  },
  {
   "cell_type": "code",
   "execution_count": null,
   "metadata": {},
   "outputs": [],
   "source": [
    "import matplotlib\n",
    "fig = plt.figure(figsize=(16, 8))\n",
    "# Increase right margin to accommodate colorbar\n",
    "plt.subplots_adjust(left=0.1, right=0.85)  # Adjusted right margin\n",
    "\n",
    "# Create gridspec without the colorbar position\n",
    "gs = fig.add_gridspec(1, 2, width_ratios=[0.45, 0.45], wspace=0.4)\n",
    "axes = [fig.add_subplot(gs[0, 0]), fig.add_subplot(gs[0, 1])]\n",
    "plt.rcParams.update({'font.size': 16})\n",
    "\n",
    "# First plot (scatter plot)\n",
    "axes[0].scatter(all_true_values, all_predictions,  c='blue', alpha=0.1)\n",
    "abline(all_true_values, all_predictions, axes[0], visualize = ['Sp'])\n",
    "axes[0].set_ylabel('Prediction', fontsize=18)\n",
    "axes[0].set_xlabel('Log mRNA Abundance', fontsize=18)\n",
    "axes[0].set_title('Regression $\\it{T. brucei}$ (PCF)', fontsize=18)\n",
    "axes[0].tick_params(axis='both', labelsize=16)\n",
    "\n",
    "# Simple seismic colorbar first\n",
    "my_cmap = plt.get_cmap('seismic')\n",
    "norm = matplotlib.colors.Normalize(vmin=-1, vmax=1)\n",
    "\n",
    "# SHAP plot in the middle\n",
    "plt.sca(axes[1])  \n",
    "shap.summary_plot(shap_values, \n",
    "                 X_test, \n",
    "                 feature_names=feature_names,\n",
    "                 max_display=20, show=False, plot_size=(16,8), color_bar=False)\n",
    "axes[1].tick_params(axis='both', labelsize=16)  \n",
    "axes[1].set_title('Feature Importance $\\it{T. brucei}$ (PCF)', fontsize=18)\n",
    "axes[1].set_xlabel('SHAP value', fontsize=16)\n",
    "\n",
    "# Apply colormap\n",
    "for fc in fig.get_children():\n",
    "    for fcc in fc.get_children():\n",
    "        if hasattr(fcc, \"set_cmap\"): \n",
    "            fcc.set_cmap(my_cmap)\n",
    "\n",
    "# Adjust positions manually for main plots\n",
    "pos0 = axes[0].get_position()\n",
    "pos1 = axes[1].get_position()\n",
    "axes[0].set_position([pos0.x0, pos0.y0, pos0.width+0.1, pos0.height])\n",
    "axes[1].set_position([pos1.x0+0.105, pos1.y0, pos1.width+0.1, pos1.height])\n",
    "axes[1].tick_params(axis='y', pad=-15)\n",
    "# Add colorbar after adjusting main plots\n",
    "cax = fig.add_axes([0.95, 0.2, 0.02, 0.2])  # [left, bottom, width, height]\n",
    "cb = matplotlib.colorbar.ColorbarBase(cax, cmap=my_cmap, norm=norm)\n",
    "cb.set_ticks([-1, 1])\n",
    "cb.set_ticklabels(['Low', 'High'])\n",
    "cb.ax.tick_params(labelsize=16)\n",
    "\n",
    "plt.savefig('Tb_mRNA_Abundance.png', bbox_inches='tight', dpi=300)\n",
    "plt.savefig('Tb_mRNA_Abundance.svg', bbox_inches='tight')\n",
    "plt.show()"
   ]
  },
  {
   "cell_type": "code",
   "execution_count": null,
   "metadata": {},
   "outputs": [],
   "source": []
  },
  {
   "cell_type": "code",
   "execution_count": null,
   "metadata": {},
   "outputs": [],
   "source": [
    "results_df = repeated_analysis(X, y)"
   ]
  },
  {
   "cell_type": "code",
   "execution_count": null,
   "metadata": {},
   "outputs": [],
   "source": [
    "pd.concat([results_df.mean(),results_df.std()],axis=1)"
   ]
  },
  {
   "cell_type": "code",
   "execution_count": null,
   "metadata": {},
   "outputs": [],
   "source": [
    "results_df['analysis_sp']='TB'\n",
    "results_df['analysis_type']='Abundance_All'\n",
    "results_df.to_csv('stats_TB_Abundance_All.csv')\n",
    "print(\"Average Sp: {:.4f} ± {:.4f}\".format(\n",
    "    results_df['Sp'].mean(), results_df['Sp'].std()))"
   ]
  },
  {
   "cell_type": "code",
   "execution_count": null,
   "metadata": {},
   "outputs": [],
   "source": []
  },
  {
   "cell_type": "code",
   "execution_count": null,
   "metadata": {},
   "outputs": [],
   "source": []
  },
  {
   "cell_type": "code",
   "execution_count": null,
   "metadata": {},
   "outputs": [],
   "source": []
  },
  {
   "cell_type": "code",
   "execution_count": null,
   "metadata": {},
   "outputs": [],
   "source": [
    "X=df.drop(to_drop, axis=1).drop(corr_to_drop, axis=1)\n",
    "y=df['TE']"
   ]
  },
  {
   "cell_type": "code",
   "execution_count": null,
   "metadata": {},
   "outputs": [],
   "source": [
    "# Assuming X is a pandas DataFrame and y is a pandas Series\n",
    "#all_predictions, all_true_values, regr, X_train, X_test, y_train, y_test = cross_validate_random_forest(X, y)\n",
    "results = cross_validate_random_forest(X, y, n_splits=3)\n",
    "\n",
    "# Access components from results dictionary\n",
    "all_predictions = results['predictions']\n",
    "all_true_values = results['true_values']\n",
    "regr = results['model']\n",
    "fold_metrics = results['fold_metrics']\n",
    "X_train, y_train = results['train_data']\n",
    "X_test, y_test = results['test_data']\n",
    "\n",
    "\n",
    "\n",
    "# Plotting\n",
    "fig, ax = plt.subplots(figsize=(9, 6))\n",
    "ax.scatter(all_true_values, all_predictions , c='blue', alpha=0.1)\n",
    "abline(all_true_values, all_predictions, ax, text_loc = [1.1, 0.95])\n",
    "ax.set_ylabel('Prediction')\n",
    "ax.set_xlabel('TE')\n",
    "ax.set_title('Random Forest Regression - 3-Fold Cross-Validation',fontsize=16)\n",
    "plt.tight_layout()\n",
    "plt.show()\n",
    "\n"
   ]
  },
  {
   "cell_type": "code",
   "execution_count": null,
   "metadata": {},
   "outputs": [],
   "source": [
    "oof_df['oofs_TE']=all_predictions"
   ]
  },
  {
   "cell_type": "code",
   "execution_count": null,
   "metadata": {},
   "outputs": [],
   "source": [
    "X_test.shape"
   ]
  },
  {
   "cell_type": "code",
   "execution_count": null,
   "metadata": {},
   "outputs": [],
   "source": [
    "#X_test['good']"
   ]
  },
  {
   "cell_type": "code",
   "execution_count": null,
   "metadata": {},
   "outputs": [],
   "source": [
    "import shap\n",
    "import matplotlib.pyplot as plt\n",
    "import matplotlib.cm as cm\n",
    "import matplotlib\n",
    "\n",
    "# Now we use the SHAP scoring system to visualise \n",
    "# the most important features for the model\n",
    "explainer = shap.TreeExplainer(regr)\n",
    "shap_values = explainer.shap_values(X_test)\n",
    "\n",
    "# Create the SHAP summary plot\n",
    "shap.summary_plot(shap_values, \n",
    "                  X_test, \n",
    "                  feature_names=feature_names,\n",
    "                  max_display=50, show=False, color_bar=False)\n",
    "\n",
    "# Get the current figure and axes\n",
    "f = plt.gcf()\n",
    "f.set_size_inches(10, 12)\n",
    "ax = plt.gca()\n",
    "\n",
    "# Customize the plot\n",
    "plt.title('Feature Importance Translation Efficiency T. brucei (PCF)', fontsize=16)\n",
    "plt.xticks(fontsize=16)\n",
    "plt.yticks(fontsize=16)\n",
    "plt.xlabel('SHAP value', fontsize=16)\n",
    "\n",
    "my_cmap = plt.get_cmap('seismic')\n",
    "\n",
    "# Change the colormap of the artists\n",
    "for child in ax.get_children():\n",
    "    if hasattr(child, \"set_cmap\"):\n",
    "        child.set_cmap(my_cmap)\n",
    "\n",
    "# Create the colorbar and adjust its size\n",
    "norm = matplotlib.colors.Normalize(vmin=-1, vmax=1)\n",
    "cbar_ax = f.add_axes([0.88, 0.1, 0.03, 0.3])\n",
    "cbar = f.colorbar(cm.ScalarMappable(norm=norm, cmap='seismic'), cax=cbar_ax, shrink=0.5)\n",
    "cbar.set_ticks([-1, 1])\n",
    "cbar.set_ticklabels(['Low', 'High'])\n",
    "cbar.ax.tick_params(labelsize=14)\n",
    "\n",
    "plt.tight_layout()\n",
    "plt.savefig('UTR_seismic_TB_TE.png')\n",
    "plt.savefig('UTR_seismic_TB_TE.svg')"
   ]
  },
  {
   "cell_type": "code",
   "execution_count": null,
   "metadata": {},
   "outputs": [],
   "source": []
  },
  {
   "cell_type": "code",
   "execution_count": null,
   "metadata": {},
   "outputs": [],
   "source": [
    "feature_names = [multiple_replace(n) for n in list(X_test.columns)]"
   ]
  },
  {
   "cell_type": "code",
   "execution_count": null,
   "metadata": {},
   "outputs": [],
   "source": [
    "import matplotlib\n",
    "fig = plt.figure(figsize=(16, 8))\n",
    "# Increase right margin to accommodate colorbar\n",
    "plt.subplots_adjust(left=0.1, right=0.85)  # Adjusted right margin\n",
    "\n",
    "# Create gridspec without the colorbar position\n",
    "gs = fig.add_gridspec(1, 2, width_ratios=[0.45, 0.45], wspace=0.4)\n",
    "axes = [fig.add_subplot(gs[0, 0]), fig.add_subplot(gs[0, 1])]\n",
    "plt.rcParams.update({'font.size': 16})\n",
    "\n",
    "# First plot (scatter plot)\n",
    "axes[0].scatter(all_true_values, all_predictions, c='blue', alpha=0.1)\n",
    "abline(all_true_values, all_predictions, axes[0], visualize = ['Sp'])\n",
    "axes[0].set_ylabel('Prediction', fontsize=18)\n",
    "axes[0].set_xlabel('Translation Efficiency', fontsize=18)\n",
    "axes[0].set_title('Regression $\\it{T. brucei}$ (PCF)', fontsize=18)\n",
    "axes[0].tick_params(axis='both', labelsize=16)\n",
    "\n",
    "# Simple seismic colorbar first\n",
    "my_cmap = plt.get_cmap('seismic')\n",
    "norm = matplotlib.colors.Normalize(vmin=-1, vmax=1)\n",
    "\n",
    "# SHAP plot in the middle\n",
    "plt.sca(axes[1])  \n",
    "shap.summary_plot(shap_values, \n",
    "                 X_test, \n",
    "                 feature_names=feature_names,\n",
    "                 max_display=20, show=False, plot_size=(16,8), color_bar=False)\n",
    "axes[1].tick_params(axis='both', labelsize=16)  \n",
    "axes[1].set_title('Feature Importance $\\it{T. brucei}$ (PCF)', fontsize=18)\n",
    "axes[1].set_xlabel('SHAP value', fontsize=16)\n",
    "\n",
    "# Apply colormap\n",
    "for fc in fig.get_children():\n",
    "    for fcc in fc.get_children():\n",
    "        if hasattr(fcc, \"set_cmap\"): \n",
    "            fcc.set_cmap(my_cmap)\n",
    "\n",
    "# Adjust positions manually for main plots\n",
    "pos0 = axes[0].get_position()\n",
    "pos1 = axes[1].get_position()\n",
    "axes[0].set_position([pos0.x0, pos0.y0, pos0.width+0.1, pos0.height])\n",
    "axes[1].set_position([pos1.x0+0.105, pos1.y0, pos1.width+0.1, pos1.height])\n",
    "axes[1].tick_params(axis='y', pad=-15)\n",
    "# Add colorbar after adjusting main plots\n",
    "cax = fig.add_axes([0.95, 0.2, 0.02, 0.2])  # [left, bottom, width, height]\n",
    "cb = matplotlib.colorbar.ColorbarBase(cax, cmap=my_cmap, norm=norm)\n",
    "cb.set_ticks([-1, 1])\n",
    "cb.set_ticklabels(['Low', 'High'])\n",
    "cb.ax.tick_params(labelsize=16)\n",
    "\n",
    "plt.savefig('Tb_TE.png', bbox_inches='tight', dpi=300)\n",
    "plt.savefig('Tb_TE.svg', bbox_inches='tight')\n",
    "plt.show()"
   ]
  },
  {
   "cell_type": "code",
   "execution_count": null,
   "metadata": {},
   "outputs": [],
   "source": []
  },
  {
   "cell_type": "code",
   "execution_count": null,
   "metadata": {},
   "outputs": [],
   "source": []
  },
  {
   "cell_type": "code",
   "execution_count": null,
   "metadata": {},
   "outputs": [],
   "source": []
  },
  {
   "cell_type": "code",
   "execution_count": null,
   "metadata": {},
   "outputs": [],
   "source": [
    "results_df = repeated_analysis(X, y)"
   ]
  },
  {
   "cell_type": "code",
   "execution_count": null,
   "metadata": {},
   "outputs": [],
   "source": [
    "pd.concat([results_df.mean(),results_df.std()],axis=1)"
   ]
  },
  {
   "cell_type": "code",
   "execution_count": null,
   "metadata": {},
   "outputs": [],
   "source": [
    "results_df['analysis_sp']='TB'\n",
    "results_df['analysis_type']='TE_All'\n",
    "results_df.to_csv('stats_TB_TE_All.csv')\n",
    "\n",
    "print(\"Average Sp: {:.4f} ± {:.4f}\".format(\n",
    "    results_df['Sp'].mean(), results_df['Sp'].std()))"
   ]
  },
  {
   "cell_type": "code",
   "execution_count": null,
   "metadata": {},
   "outputs": [],
   "source": []
  },
  {
   "cell_type": "code",
   "execution_count": null,
   "metadata": {},
   "outputs": [],
   "source": []
  },
  {
   "cell_type": "code",
   "execution_count": null,
   "metadata": {},
   "outputs": [],
   "source": []
  },
  {
   "cell_type": "code",
   "execution_count": null,
   "metadata": {},
   "outputs": [],
   "source": [
    "# show versions of packages\n",
    "# adopted from https://stackoverflow.com/questions/40428931/package-for-listing-version-of-packages-used-in-a-jupyter-notebook\n",
    "import pkg_resources\n",
    "import types\n",
    "import sys\n",
    "def get_imports():\n",
    "    for name, val in globals().items():\n",
    "        if isinstance(val, types.ModuleType):\n",
    "            # Split ensures you get root package, \n",
    "            # not just imported function\n",
    "            name = val.__name__.split(\".\")[0]\n",
    "        elif isinstance(val, type):\n",
    "            name = val.__module__.split(\".\")[0]\n",
    "        # Some packages are weird and have different\n",
    "        # imported names vs. system/pip names. Unfortunately,\n",
    "        # there is no systematic way to get pip names from\n",
    "        # a package's imported name. You'll have to add\n",
    "        # exceptions to this list manually!\n",
    "        poorly_named_packages = {\n",
    "            \"sklearn\": \"scikit-learn\"\n",
    "        }\n",
    "        if name in poorly_named_packages.keys():\n",
    "            name = poorly_named_packages[name]\n",
    "        yield name.lower()\n",
    "imports = list(set(get_imports()))\n",
    "\n",
    "# The only way I found to get the version of the root package\n",
    "# from only the name of the package is to cross-check the names \n",
    "# of installed packages vs. imported packages\n",
    "modules = []\n",
    "for m in sys.builtin_module_names:\n",
    "    if m.lower() in imports and m !='builtins':\n",
    "        modules.append((m,'Python BuiltIn'))\n",
    "        imports.remove(m.lower())\n",
    "\n",
    "for m in pkg_resources.working_set:\n",
    "    if m.project_name.lower() in imports and m.project_name!=\"pip\":\n",
    "        modules.append((m.project_name, m.version))\n",
    "        imports.remove(m.project_name.lower())\n",
    "\n",
    "for m in sys.modules:\n",
    "    if m.lower() in imports and m !='builtins':\n",
    "        modules.append((m,'unknown'))\n",
    "\n",
    "# print('System=='+platform.system()+' '+platform.release()+'; Version=='+platform.version())\n",
    "for r in modules:\n",
    "    print(\"{}=={}\".format(*r))"
   ]
  },
  {
   "cell_type": "code",
   "execution_count": null,
   "metadata": {},
   "outputs": [],
   "source": [
    "#conda create -n ml_utr python=3.8 matplotlib=3.5.1 numpy=1.21.6 \\\n",
    "#scipy=1.10.1 pandas=1.4.2 scikit-learn=1.0.2 shap=0.39.0 \\\n",
    "#eli5=0.13.0 seaborn=0.11.2 jupyterlab numba=0.53\n",
    "#conda activate ml_utr\n",
    "#jupyter lab"
   ]
  }
 ],
 "metadata": {
  "kernelspec": {
   "display_name": "Python [conda env:miniconda3-ritSeq]",
   "language": "python",
   "name": "conda-env-miniconda3-ritSeq-py"
  },
  "language_info": {
   "codemirror_mode": {
    "name": "ipython",
    "version": 3
   },
   "file_extension": ".py",
   "mimetype": "text/x-python",
   "name": "python",
   "nbconvert_exporter": "python",
   "pygments_lexer": "ipython3",
   "version": "3.7.3"
  },
  "widgets": {
   "application/vnd.jupyter.widget-state+json": {
    "state": {},
    "version_major": 2,
    "version_minor": 0
   }
  }
 },
 "nbformat": 4,
 "nbformat_minor": 4
}
